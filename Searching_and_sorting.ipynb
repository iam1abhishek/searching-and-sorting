{
 "cells": [
  {
   "cell_type": "code",
   "execution_count": 3,
   "metadata": {},
   "outputs": [],
   "source": [
    "def binary_search(arr,element,debug=False):\n",
    "    lower_bound=0\n",
    "    upper_bound=len(arr)-1\n",
    "    while lower_bound<=upper_bound:\n",
    "        middle=(lower_bound+upper_bound)//2\n",
    "        if debug:\n",
    "            print(lower_bound, upper_bound,middle)\n",
    "        if arr[middle]==element:\n",
    "            return middle\n",
    "        elif arr[middle]>element:\n",
    "            upper_bound=middle-1\n",
    "        else:\n",
    "            lower_bound=middle+1 \n",
    "    return(\"element not found in arr\")        \n",
    "                 "
   ]
  },
  {
   "cell_type": "code",
   "execution_count": 6,
   "metadata": {},
   "outputs": [
    {
     "data": {
      "text/plain": [
       "'element no found in arr'"
      ]
     },
     "execution_count": 6,
     "metadata": {},
     "output_type": "execute_result"
    }
   ],
   "source": [
    "arr=[12,34,45,56,78,89]\n",
    "x1=56\n",
    "x2=57\n",
    "binary_search(arr,x2,debug=False)\n"
   ]
  },
  {
   "cell_type": "code",
   "execution_count": 7,
   "metadata": {},
   "outputs": [
    {
     "name": "stdout",
     "output_type": "stream",
     "text": [
      "0 5 2\n",
      "3 5 4\n",
      "3 3 3\n"
     ]
    },
    {
     "data": {
      "text/plain": [
       "'element no found in arr'"
      ]
     },
     "execution_count": 7,
     "metadata": {},
     "output_type": "execute_result"
    }
   ],
   "source": [
    "arr=[12,34,45,56,78,89]\n",
    "x1=56\n",
    "x2=57\n",
    "binary_search(arr,x2,debug=True)\n"
   ]
  },
  {
   "cell_type": "code",
   "execution_count": 8,
   "metadata": {},
   "outputs": [
    {
     "name": "stdout",
     "output_type": "stream",
     "text": [
      "0 10 5\n"
     ]
    },
    {
     "data": {
      "text/plain": [
       "5"
      ]
     },
     "execution_count": 8,
     "metadata": {},
     "output_type": "execute_result"
    }
   ],
   "source": [
    "arr=[12,34,45,56,56,56,56,56,56,78,89]\n",
    "x1=56\n",
    "x2=57\n",
    "binary_search(arr,x1,debug=True)\n"
   ]
  },
  {
   "cell_type": "markdown",
   "metadata": {},
   "source": [
    "selection sort"
   ]
  },
  {
   "cell_type": "code",
   "execution_count": 12,
   "metadata": {},
   "outputs": [],
   "source": [
    "def selection_sort(A):\n",
    "    for i in range (len(A)):\n",
    "       min_index=i \n",
    "       for j in range(i+1,len(A)):\n",
    "           if A[j] <A[min_index]:\n",
    "               min_index=j\n",
    "       A[i],A[min_index]=A[min_index],A[i] \n",
    "    return A       "
   ]
  },
  {
   "cell_type": "code",
   "execution_count": 13,
   "metadata": {},
   "outputs": [
    {
     "data": {
      "text/plain": [
       "[4, 5, 6, 9, 13]"
      ]
     },
     "execution_count": 13,
     "metadata": {},
     "output_type": "execute_result"
    }
   ],
   "source": [
    "A=[13,4,9,5,6]\n",
    "selection_sort(A)"
   ]
  },
  {
   "cell_type": "markdown",
   "metadata": {},
   "source": [
    "BUbble sort "
   ]
  },
  {
   "cell_type": "code",
   "execution_count": 19,
   "metadata": {},
   "outputs": [],
   "source": [
    "def bubble_sort(A):\n",
    "    for i in range (len(A)):\n",
    "       print(\"this is pass:\",i)\n",
    "       for j in range(len(A)-1):\n",
    "            if A[j]>A[j+1]:\n",
    "                print(\"The pair is\",A[j], \"and\", A[j+1])\n",
    "                A[j],A[j+1]=A[j+1],A[j]\n",
    "    return A     "
   ]
  },
  {
   "cell_type": "code",
   "execution_count": 20,
   "metadata": {},
   "outputs": [
    {
     "name": "stdout",
     "output_type": "stream",
     "text": [
      "this is pass: 0\n",
      "The pair is 9 and 5\n",
      "The pair is 9 and 3\n",
      "The pair is 9 and 1\n",
      "this is pass: 1\n",
      "The pair is 5 and 3\n",
      "The pair is 5 and 1\n",
      "this is pass: 2\n",
      "The pair is 3 and 1\n",
      "this is pass: 3\n"
     ]
    },
    {
     "data": {
      "text/plain": [
       "[1, 3, 5, 9]"
      ]
     },
     "execution_count": 20,
     "metadata": {},
     "output_type": "execute_result"
    }
   ],
   "source": [
    "A=[9,5,3,1]\n",
    "bubble_sort(A)"
   ]
  },
  {
   "cell_type": "markdown",
   "metadata": {},
   "source": [
    "optimized bubble sort"
   ]
  },
  {
   "cell_type": "code",
   "execution_count": 25,
   "metadata": {},
   "outputs": [],
   "source": [
    "def bubble_sort(A):\n",
    "    for i in range (len(A)-1):\n",
    "       print(\"this is pass:\",i) #for writing the passes\n",
    "       for j in range(len(A)-1-i):\n",
    "            if A[j]>A[j+1]:\n",
    "                print(\"The pair is\",A[j], \"and\", A[j+1]) #for writing the exchanged digit in pair\n",
    "                A[j],A[j+1]=A[j+1],A[j]\n",
    "    return A     "
   ]
  },
  {
   "cell_type": "code",
   "execution_count": 26,
   "metadata": {},
   "outputs": [
    {
     "name": "stdout",
     "output_type": "stream",
     "text": [
      "this is pass: 0\n",
      "The pair is 9 and 5\n",
      "The pair is 9 and 3\n",
      "The pair is 9 and 1\n",
      "this is pass: 1\n",
      "The pair is 5 and 3\n",
      "The pair is 5 and 1\n",
      "this is pass: 2\n",
      "The pair is 3 and 1\n"
     ]
    },
    {
     "data": {
      "text/plain": [
       "[1, 3, 5, 9]"
      ]
     },
     "execution_count": 26,
     "metadata": {},
     "output_type": "execute_result"
    }
   ],
   "source": [
    "A=[9,5,3,1]\n",
    "bubble_sort(A)"
   ]
  },
  {
   "cell_type": "code",
   "execution_count": 27,
   "metadata": {},
   "outputs": [
    {
     "name": "stdout",
     "output_type": "stream",
     "text": [
      "this is pass: 0\n",
      "this is pass: 1\n",
      "this is pass: 2\n"
     ]
    },
    {
     "data": {
      "text/plain": [
       "[1, 3, 5, 9]"
      ]
     },
     "execution_count": 27,
     "metadata": {},
     "output_type": "execute_result"
    }
   ],
   "source": [
    "A=[1,3,5,9]\n",
    "bubble_sort(A)"
   ]
  },
  {
   "cell_type": "markdown",
   "metadata": {},
   "source": [
    "Insertion sort "
   ]
  },
  {
   "cell_type": "code",
   "execution_count": null,
   "metadata": {},
   "outputs": [],
   "source": []
  }
 ],
 "metadata": {
  "kernelspec": {
   "display_name": "base",
   "language": "python",
   "name": "python3"
  },
  "language_info": {
   "codemirror_mode": {
    "name": "ipython",
    "version": 3
   },
   "file_extension": ".py",
   "mimetype": "text/x-python",
   "name": "python",
   "nbconvert_exporter": "python",
   "pygments_lexer": "ipython3",
   "version": "3.11.4"
  },
  "orig_nbformat": 4
 },
 "nbformat": 4,
 "nbformat_minor": 2
}
